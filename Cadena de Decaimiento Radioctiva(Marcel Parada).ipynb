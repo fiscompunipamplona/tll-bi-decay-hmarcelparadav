{
 "cells": [
  {
   "cell_type": "markdown",
   "metadata": {},
   "source": [
    "#### Nombre: Marcel Parada Villamizar  \n",
    "#### Código: 1007407019\n",
    "\n",
    "\n",
    "## Ejemplo 10.2\n",
    "\n",
    "Este ejercicio analiza una versión más avanzada de la simple simulación del decaimiento radiactivo en el ejemplo 10.1\n",
    "\n",
    "<img src=\"Imagenejercicio10.2.png\">\n",
    "\n",
    "El isótopo 213Bi decae a 209Bi estable a través de una de dos rutas diferentes, con probabilidades y vidas medias como se muestra en la figura. (Técnicamente, 209Bi no es realmente estable, pero tiene una vida media de más de 10x19 años, mil millones de veces la edad del universo, por lo que también podría serlo).\n",
    "\n",
    "Comenzando con una muestra que consta de 10000 átomos de 213Bi, simule el decaimiento de los átomos como en el Ejemplo 10.1 dividiendo el tiempo en segmentos de longitud Deltat = 1 s cada uno y en cada paso haciendo lo siguiente:\n",
    "\n",
    "a) Para cada átomo de 209Pb a su vez, decida al azar, con la probabilidad apropiada, si decae o no. (La probabilidad se puede calcular a partir de la ecuación (10.3).) Cuente el número total que decae, reste del número de átomos de 209Pb y súmelo al número de átomos de 209Bi.\n",
    "\n",
    "<img src=\"Imagenejercicio10.2-1.png\">\n",
    "\n",
    "b) Ahora haga lo mismo para 209TI, excepto que los átomos en decaimiento se restan del total de 209TI y se suman al total de 209Pb.\n",
    "\n",
    "c) Para 213Bi, la situación es más complicada: cuando un átomo de 213Bi decae, debe decidir al azar con la probabilidad apropiada la ruta por la que se decae. Cuente los números que decaen por cada ruta y sume y reste en consecuencia.\n",
    "\n",
    "Tenga en cuenta que tiene que trabajar la cadena desde la parte inferior de esta manera, no hacia abajo desde la parte superior, para evitar que el mismo átomo se descomponga dos veces en un solo paso.\n",
    "\n",
    "Mantenga un registro de la cantidad de átomos de cada uno de los cuatro isótopos en todo momento durante 20000 segundos y haga un solo gráfico que muestre los cuatro números en función del tiempo en los mismos ejes."
   ]
  },
  {
   "cell_type": "code",
   "execution_count": 4,
   "metadata": {},
   "outputs": [
    {
     "name": "stderr",
     "output_type": "stream",
     "text": [
      "/usr/lib/python3/dist-packages/matplotlib/cbook/__init__.py:424: MatplotlibDeprecationWarning: \n",
      "Passing one of 'on', 'true', 'off', 'false' as a boolean is deprecated; use an actual boolean (True/False) instead.\n",
      "  warn_deprecated(\"2.2\", \"Passing one of 'on', 'true', 'off', 'false' as a \"\n"
     ]
    },
    {
     "data": {
      "image/png": "[encoded data removed]",
      "text/plain": [
       "<Figure size 432x288 with 1 Axes>"
      ]
     },
     "metadata": {
      "needs_background": "light"
     },
     "output_type": "display_data"
    }
   ],
   "source": [
    "from random import random\n",
    "from numpy import arange\n",
    "from pylab import *\n",
    "\n",
    "\n",
    "NBi213 = 10000      #Cantidad de átomos de Bismuto213\n",
    "NPb = 0             #Cantidad de átomos de Plomo209\n",
    "NTi = 0             #Cantidad de átomos de Talio209\n",
    "Nbi209= 0           #Cantidad de átomos de Bismuto209\n",
    "\n",
    "tauBi213 = 46*60    #Tiempo de vida del Bismuto en segundos\n",
    "tauPb = 3.3*60      #Tiempo de vida del Plomo en segundos\n",
    "tauTI = 2.2*60      #Tiempo de vida del Talio en segundos\n",
    "\n",
    "h=1.0               #Tamaño del intervalo del tiempo en segundos\n",
    "\n",
    "pBi213= 1 - 2**(-h/tauBi213)  #Probabilidad de decadimiento en un solo paso\n",
    "pPb= 1 - 2**(-h/tauPb)     #Probabilidad de decadimiento en un solo paso\n",
    "pTi= 1 - 2**(-h/tauTI)     #Probabilidad de decadimiento en un solo paso \n",
    "\n",
    "tmax = 20000               #Tiempo total\n",
    "\n",
    "# Lista de puntos de trazas(plot)\n",
    "tpoints = arange(0.0, tmax,h)\n",
    "Bi213points = []\n",
    "Pbpoints = []\n",
    "Tipoints = []\n",
    "bi209points = []\n",
    "\n",
    "# Inicio Ciclos\n",
    "for t in tpoints:\n",
    "    Bi213points.append(NBi213)\n",
    "    Pbpoints.append(NPb)\n",
    "    Tipoints.append(NTi)\n",
    "    bi209points.append(Nbi209)\n",
    "    \n",
    "    \n",
    "    #Calcula el número de atomos que estan decaimiento\n",
    "    decay1=0\n",
    "    for i in range(NPb):\n",
    "        if random()<pPb:\n",
    "            decay1+=1\n",
    "    NPb-=decay1\n",
    "    Nbi209+=decay1\n",
    "    \n",
    "    decay2=0\n",
    "    for i in range(NTi):\n",
    "        if random()<pTi:\n",
    "            decay2+=1\n",
    "        NTi-=decay2 \n",
    "        NPb+=decay2 \n",
    "    \n",
    "    decay3=0\n",
    "    decay4=0\n",
    "    decay5=0\n",
    "    for i in range(NBi213):\n",
    "        if random()<pBi213:\n",
    "            decay3+=1\n",
    "            NBi213-=decay3\n",
    "            if random()>0.0209:\n",
    "                decay4+=1\n",
    "                NTi+=decay4\n",
    "            else:\n",
    "                if random()<0.9791:\n",
    "                    decay5 +=1\n",
    "                    NPb += decay5\n",
    "\n",
    "#Hacer el gráfico\n",
    "plot(tpoints,bi209points, label='Bi209')\n",
    "plot(tpoints,Pbpoints, label='Pb209')\n",
    "plot(tpoints,Tipoints,label='Ti209')\n",
    "plot(tpoints,Bi213points,label='Bi213')\n",
    "xlabel(\"Tiempo\")\n",
    "ylabel(\"Número de àtomos\")\n",
    "grid('on')\n",
    "#ylim(0,1000)\n",
    "#xlim(0,100)\n",
    "legend()\n",
    "show()"
   ]
  },
  {
   "cell_type": "markdown",
   "metadata": {},
   "source": [
    "## Justificación\n",
    "\n",
    "La grafica del isotopo Bi213 decae exponencialmente debido a que cede átomos tanto al Pb y Ti, el Pb toma la mayor parte de estos a comparación del talio el cual solo se le es cedido el 2%; luego Ti cede sus átomos al plomo y decae hasta llegar a 0, por último, el plomo a medida que pasa el tiempo termina cediendo toda esa cantidad de átomos al Bi209\n"
   ]
  },
  {
   "cell_type": "code",
   "execution_count": null,
   "metadata": {},
   "outputs": [],
   "source": []
  }
 ],
 "metadata": {
  "kernelspec": {
   "display_name": "Python 3",
   "language": "python",
   "name": "python3"
  },
  "language_info": {
   "codemirror_mode": {
    "name": "ipython",
    "version": 3
   },
   "file_extension": ".py",
   "mimetype": "text/x-python",
   "name": "python",
   "nbconvert_exporter": "python",
   "pygments_lexer": "ipython3",
   "version": "3.5.2"
  }
 },
 "nbformat": 4,
 "nbformat_minor": 2
}
